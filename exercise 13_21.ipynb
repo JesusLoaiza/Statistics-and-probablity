{
 "cells": [
  {
   "cell_type": "markdown",
   "metadata": {},
   "source": [
    "## Exercise 13 "
   ]
  },
  {
   "cell_type": "code",
   "execution_count": 2,
   "metadata": {},
   "outputs": [
    {
     "name": "stdout",
     "output_type": "stream",
     "text": [
      "Your first variable is: C:\\ProgramData\\Anaconda3\\lib\\site-packages\\ipykernel_launcher.py\n",
      "Your second variable is: -f\n",
      "Your third variable is: C:\\Users\\Jesus A LC\\AppData\\Roaming\\jupyter\\runtime\\kernel-27d2a721-9031-49c7-835a-01158c6ad47d.json\n"
     ]
    }
   ],
   "source": [
    "from sys import argv\n",
    "\n",
    "# read the WYSS section for how to run this\n",
    "Acer, Asus, MSI = argv\n",
    "\n",
    "\n",
    "print(\"Your first variable is:\", Acer)\n",
    "print(\"Your second variable is:\", Asus)\n",
    "print(\"Your third variable is:\", MSI)"
   ]
  },
  {
   "cell_type": "markdown",
   "metadata": {},
   "source": [
    "## Exercise 14"
   ]
  },
  {
   "cell_type": "code",
   "execution_count": 3,
   "metadata": {},
   "outputs": [
    {
     "name": "stdout",
     "output_type": "stream",
     "text": [
      "Hi -f, I'm the C:\\ProgramData\\Anaconda3\\lib\\site-packages\\ipykernel_launcher.py script.\n",
      "I'd like to ask you a few questions.\n",
      "Do you like me -f?\n",
      "> yes\n",
      "Where do you live -f?\n",
      "> here\n",
      "What kind of computer do you have?\n",
      "> laptop\n",
      "\n",
      "Alrigth, so you said yes about liking me.\n",
      "You live in here. Not sure where that is.\n",
      "And you have a laptop computer. Nice.\n",
      "\n"
     ]
    }
   ],
   "source": [
    "from sys import argv\n",
    "\n",
    "script, jesus, one = argv\n",
    "prompt = '> '\n",
    "\n",
    "print(f\"Hi {jesus}, I'm the {script} script.\")\n",
    "print(\"I'd like to ask you a few questions.\")\n",
    "print(f\"Do you like me {jesus}?\")\n",
    "likes = input(prompt)\n",
    "\n",
    "print(f\"Where do you live {jesus}?\")\n",
    "lives = input(prompt)\n",
    "\n",
    "print(\"What kind of computer do you have?\")\n",
    "computer = input(prompt)\n",
    "\n",
    "print(f\"\"\"\n",
    "Alrigth, so you said {likes} about liking me.\n",
    "You live in {lives}. Not sure where that is.\n",
    "And you have a {computer} computer. Nice.\n",
    "\"\"\")"
   ]
  },
  {
   "cell_type": "markdown",
   "metadata": {},
   "source": [
    "## Exercise 15"
   ]
  },
  {
   "cell_type": "code",
   "execution_count": 9,
   "metadata": {},
   "outputs": [
    {
     "name": "stdout",
     "output_type": "stream",
     "text": [
      "Here is your file -f:\n",
      "op\n",
      "we\n",
      "nmms\n",
      "\n",
      "Type the filename again:\n",
      "> -f\n",
      "op\n",
      "we\n",
      "nmms\n",
      "\n"
     ]
    }
   ],
   "source": [
    "from sys import argv\n",
    "\n",
    "script, filename, one = argv\n",
    "\n",
    "txt = open(filename)\n",
    "\n",
    "print(f\"Here is your file {filename}:\")\n",
    "print(txt.read())\n",
    "\n",
    "print(\"Type the filename again:\")\n",
    "file_again = input('> ')\n",
    "\n",
    "txt_again = open(file_again)\n",
    "\n",
    "print(txt_again.read())"
   ]
  },
  {
   "cell_type": "markdown",
   "metadata": {},
   "source": [
    "## Exercise 16"
   ]
  },
  {
   "cell_type": "code",
   "execution_count": 7,
   "metadata": {},
   "outputs": [
    {
     "name": "stdout",
     "output_type": "stream",
     "text": [
      "We're going to erase -f.\n",
      "If you don't want that, hit CTRL-C (^C).\n",
      "If you do want that, hit RETURN.\n",
      "?RETURN\n",
      "Opening the file...\n",
      "Truncating the file. Goodbye!\n",
      "Now I'm going to ask you for three lines.\n",
      "line 1: op\n",
      "line 2: we\n",
      "line 3: nmms\n",
      "I'm going to write these to the file.\n",
      "And finally, we close it.\n"
     ]
    }
   ],
   "source": [
    "from sys import argv\n",
    "\n",
    "script, filename, one = argv\n",
    "\n",
    "print(f\"We're going to erase {filename}.\")\n",
    "print(\"If you don't want that, hit CTRL-C (^C).\")\n",
    "print(\"If you do want that, hit RETURN.\")\n",
    "\n",
    "input(\"?\")\n",
    "\n",
    "print(\"Opening the file...\")\n",
    "target = open(filename, 'w')\n",
    "\n",
    "print(\"Truncating the file. Goodbye!\")\n",
    "target.truncate()\n",
    "\n",
    "print(\"Now I'm going to ask you for three lines.\")\n",
    "\n",
    "line1 = input(\"line 1: \")\n",
    "line2 = input(\"line 2: \")\n",
    "line3 = input(\"line 3: \")\n",
    "\n",
    "print(\"I'm going to write these to the file.\")\n",
    "\n",
    "target.write(line1)\n",
    "target.write(\"\\n\")\n",
    "target.write(line2)\n",
    "target.write(\"\\n\")\n",
    "target.write(line3)\n",
    "target.write(\"\\n\")\n",
    "\n",
    "print(\"And finally, we close it.\")\n",
    "target.close()"
   ]
  },
  {
   "cell_type": "markdown",
   "metadata": {},
   "source": [
    "## Exercise 17"
   ]
  },
  {
   "cell_type": "code",
   "execution_count": 11,
   "metadata": {
    "scrolled": true
   },
   "outputs": [
    {
     "name": "stdout",
     "output_type": "stream",
     "text": [
      "Copying from -f to C:\\Users\\Jesus A LC\\AppData\\Roaming\\jupyter\\runtime\\kernel-27d2a721-9031-49c7-835a-01158c6ad47d.json\n",
      "The input file is 11 bytes long\n",
      "Does the output file exists? True\n",
      "Ready, hit RETURN to continue, CTRL-C to abort.\n",
      "CTRL-C\n",
      "Alright, all done.\n"
     ]
    }
   ],
   "source": [
    "from sys import argv\n",
    "from os.path import exists\n",
    "\n",
    "scrip, from_file, to_file = argv\n",
    "\n",
    "print(f\"Copying from {from_file} to {to_file}\")\n",
    "\n",
    "# we could do these two on one line, how?\n",
    "in_file = open(from_file)\n",
    "indata = in_file.read()\n",
    "\n",
    "print(f\"The input file is {len(indata)} bytes long\")\n",
    "\n",
    "print(f\"Does the output file exists? {exists(to_file)}\")\n",
    "print(\"Ready, hit RETURN to continue, CTRL-C to abort.\")\n",
    "input()\n",
    "\n",
    "out_file = open(to_file, 'w')\n",
    "out_file.write(indata)\n",
    "\n",
    "print(\"Alright, all done.\")\n",
    "\n",
    "out_file.close()\n",
    "in_file.close()"
   ]
  },
  {
   "cell_type": "markdown",
   "metadata": {},
   "source": [
    "## Exercise 18"
   ]
  },
  {
   "cell_type": "code",
   "execution_count": 10,
   "metadata": {},
   "outputs": [
    {
     "name": "stdout",
     "output_type": "stream",
     "text": [
      "arg1: Acer, arg2: Asus\n",
      "arg1: Acer, arg2: Asus\n",
      "arg1: First!\n",
      "I got nothin'.\n"
     ]
    }
   ],
   "source": [
    "# this one is like your scripts with argv\n",
    "def print_two(*args):\n",
    "    arg1, arg2 = args\n",
    "    print(f\"arg1: {arg1}, arg2: {arg2}\")\n",
    "    \n",
    "# ok, that *args is actually pointless, we can just do this\n",
    "def print_two_again(arg1, arg2):\n",
    "    print(f\"arg1: {arg1}, arg2: {arg2}\")\n",
    "    \n",
    "# this just takes one argument\n",
    "def print_one(arg1):\n",
    "    print(f\"arg1: {arg1}\")\n",
    "    \n",
    "# this one takes no arguments\n",
    "def print_none():\n",
    "    print(\"I got nothin'.\")\n",
    "    \n",
    "print_two(\"Acer\",\"Asus\")\n",
    "print_two_again(\"Acer\",\"Asus\")\n",
    "print_one(\"First!\")\n",
    "print_none()"
   ]
  },
  {
   "cell_type": "code",
   "execution_count": 12,
   "metadata": {},
   "outputs": [],
   "source": [
    "## Exercise 19 "
   ]
  },
  {
   "cell_type": "code",
   "execution_count": 20,
   "metadata": {},
   "outputs": [
    {
     "name": "stdout",
     "output_type": "stream",
     "text": [
      "Man that's enough for a party!\n",
      "Get a blanket.\n",
      "\n",
      "We can just give the function numbers directly:\n",
      "You have 20 candys!\n",
      "You have 30 boxes of chocolate!\n",
      "OR, we can use variables from our script:\n",
      "You have 10 candys!\n",
      "You have 50 boxes of chocolate!\n",
      "We can even do math inside too:\n",
      "You have 30 candys!\n",
      "You have 11 boxes of chocolate!\n",
      "And we can combine the two, variables and math:\n",
      "You have 110 candys!\n",
      "You have 1050 boxes of chocolate!\n"
     ]
    }
   ],
   "source": [
    " def candy_and_chocolate(candy_count, boxes_of_chocolate): \n",
    "    print(f\"You have {candy_count} candys!\") \n",
    "    print(f\"You have {boxes_of_chocolate} boxes of chocolate!\") \n",
    "print(\"Man that's enough for a party!\") \n",
    "print(\"Get a blanket.\\n\")\n",
    "\n",
    "print(\"We can just give the function numbers directly:\") \n",
    "candy_and_chocolate(20, 30)\n",
    "\n",
    "\n",
    " print(\"OR, we can use variables from our script:\") \n",
    "amount_of_candy = 10 \n",
    " amount_of_chocolate = 50\n",
    " \n",
    " candy_and_chocolate(amount_of_candy, amount_of_chocolate)\n",
    "\n",
    " \n",
    " print(\"We can even do math inside too:\") \n",
    "candy_and_chocolate(10 + 20, 5 + 6)\n",
    "\n",
    " \n",
    "print(\"And we can combine the two, variables and math:\") \n",
    " candy_and_chocolate(amount_of_candy + 100, amount_of_chocolate + 1000)\n"
   ]
  },
  {
   "cell_type": "code",
   "execution_count": null,
   "metadata": {},
   "outputs": [],
   "source": [
    "## exercise 20"
   ]
  },
  {
   "cell_type": "code",
   "execution_count": 8,
   "metadata": {},
   "outputs": [
    {
     "ename": "FileNotFoundError",
     "evalue": "[Errno 2] No such file or directory: '-f'",
     "output_type": "error",
     "traceback": [
      "\u001b[1;31m---------------------------------------------------------------------------\u001b[0m",
      "\u001b[1;31mFileNotFoundError\u001b[0m                         Traceback (most recent call last)",
      "\u001b[1;32m<ipython-input-8-bc4b69b4eb3f>\u001b[0m in \u001b[0;36m<module>\u001b[1;34m\u001b[0m\n\u001b[0;32m     10\u001b[0m         \u001b[0mprint\u001b[0m\u001b[1;33m(\u001b[0m\u001b[0mline_count\u001b[0m\u001b[1;33m,\u001b[0m \u001b[0mf\u001b[0m\u001b[1;33m.\u001b[0m\u001b[0mreadline\u001b[0m\u001b[1;33m(\u001b[0m\u001b[1;33m)\u001b[0m\u001b[1;33m)\u001b[0m\u001b[1;33m\u001b[0m\u001b[1;33m\u001b[0m\u001b[0m\n\u001b[0;32m     11\u001b[0m \u001b[1;33m\u001b[0m\u001b[0m\n\u001b[1;32m---> 12\u001b[1;33m \u001b[0mcurrent_file\u001b[0m \u001b[1;33m=\u001b[0m \u001b[0mopen\u001b[0m\u001b[1;33m(\u001b[0m\u001b[0mexample\u001b[0m\u001b[1;33m)\u001b[0m\u001b[1;33m\u001b[0m\u001b[1;33m\u001b[0m\u001b[0m\n\u001b[0m\u001b[0;32m     13\u001b[0m \u001b[1;33m\u001b[0m\u001b[0m\n\u001b[0;32m     14\u001b[0m \u001b[0mprint\u001b[0m\u001b[1;33m(\u001b[0m\u001b[1;34m\"First let's print the whole file:\\n\"\u001b[0m\u001b[1;33m)\u001b[0m\u001b[1;33m\u001b[0m\u001b[1;33m\u001b[0m\u001b[0m\n",
      "\u001b[1;31mFileNotFoundError\u001b[0m: [Errno 2] No such file or directory: '-f'"
     ]
    }
   ],
   "source": [
    "from sys import argv\n",
    "\n",
    "script, input_file, one = argv\n",
    " \n",
    "def print_all(f): \n",
    "     print(f.read())\n",
    "def rewind(f): \n",
    "         f.seek(0)\n",
    "def print_a_line(line_count, f): \n",
    "        print(line_count, f.readline())\n",
    "        \n",
    "current_file = open(input_file)\n",
    "\n",
    "print(\"First let's print the whole file:\\n\")\n",
    "    \n",
    "print_all(current_file)\n",
    "  \n",
    "print(\"Now let's rewind, kind of like a tape.\")\n",
    " \n",
    "rewind(current_file)\n",
    "\n",
    "print(\"Let's print three lines:\")\n",
    " \n",
    "current_line = 1 \n",
    "print_a_line(current_line, current_file)\n",
    " \n",
    "current_line = current_line + 1 \n",
    "print_a_line(current_line, current_file)\n",
    " \n",
    "current_line = current_line + 1 \n",
    "print_a_line(current_line, current_file)\n"
   ]
  },
  {
   "cell_type": "code",
   "execution_count": 2,
   "metadata": {},
   "outputs": [],
   "source": [
    "##Exercise 21"
   ]
  },
  {
   "cell_type": "code",
   "execution_count": 108,
   "metadata": {},
   "outputs": [
    {
     "name": "stdout",
     "output_type": "stream",
     "text": [
      "Let's do some math with just functions!\n",
      "ADDING 30 + 5\n",
      "SUBTRACTING 78 - 4\n",
      "MULTIPLYING 90 * 2\n",
      "DIVIDING 100 / 2\n",
      "Age: 35, Height: 74, Weight: 180, IQ: 50.0\n",
      "Here is a puzzle.\n",
      "DIVIDING 50.0 / 2\n",
      "MULTIPLYING 180 * 25.0\n",
      "SUBTRACTING 74 - 4500.0\n",
      "ADDING 35 + -4426.0\n",
      "That becomes:  -4391.0 Can you do it by hand?\n"
     ]
    }
   ],
   "source": [
    " def add(x, y): \n",
    "    print(f\"ADDING {x} + {y}\")\n",
    "    return x + y\n",
    " \n",
    "def subtract(x, y): \n",
    "    print(f\"SUBTRACTING {x} - {y}\") \n",
    "    return x - y\n",
    " \n",
    "def multiply(x, y): \n",
    "    print(f\"MULTIPLYING {x} * {y}\") \n",
    "    return x * y\n",
    " \n",
    "def divide(x, y): \n",
    "    print(f\"DIVIDING {x} / {y}\") \n",
    "    return x / y\n",
    "\n",
    " \n",
    "print(\"Let's do some math with just functions!\")\n",
    " \n",
    "age = add(30, 5) \n",
    "height = subtract(78, 4) \n",
    "weight = multiply(90, 2) \n",
    " iq = divide(100, 2)\n",
    " \n",
    " print(f\"Age: {age}, Height: {height}, Weight: {weight}, IQ: {iq}\")\n",
    "\n",
    " # A puzzle for the extra credit, type it in anyway. \n",
    " print(\"Here is a puzzle.\")\n",
    " \n",
    " what = add(age, subtract(height, multiply(weight, divide(iq, 2))))\n",
    " \n",
    " print(\"That becomes: \", what, \"Can you do it by hand?\")"
   ]
  },
  {
   "cell_type": "code",
   "execution_count": null,
   "metadata": {},
   "outputs": [],
   "source": []
  }
 ],
 "metadata": {
  "kernelspec": {
   "display_name": "Python 3",
   "language": "python",
   "name": "python3"
  },
  "language_info": {
   "codemirror_mode": {
    "name": "ipython",
    "version": 3
   },
   "file_extension": ".py",
   "mimetype": "text/x-python",
   "name": "python",
   "nbconvert_exporter": "python",
   "pygments_lexer": "ipython3",
   "version": "3.7.3"
  }
 },
 "nbformat": 4,
 "nbformat_minor": 2
}
