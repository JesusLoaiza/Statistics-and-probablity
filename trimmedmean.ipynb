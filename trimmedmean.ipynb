{
 "cells": [
  {
   "cell_type": "markdown",
   "metadata": {},
   "source": [
    "## Calculate the Trimmed Mean"
   ]
  },
  {
   "cell_type": "code",
   "execution_count": null,
   "metadata": {
    "scrolled": false
   },
   "outputs": [],
   "source": [
    "x=int(input(\"How much data will you use?\"))\n",
    "a=x\n",
    "datas=[]\n",
    "outliers=0\n",
    "c=0\n",
    "l=0\n",
    "p=0\n",
    "V=0\n",
    "m=0\n",
    "n=0\n",
    "o=0\n",
    "xi=0\n",
    "xa=0\n",
    "r=0\n",
    "\n",
    "for i in range(0,x):\n",
    "    d = float(input(\"\\nIntroduce the Datas: \"))\n",
    "    datas.append(d)\n",
    "    ds=[d]\n",
    "    \n",
    "if d >= 0:\n",
    "    x=[datas]\n",
    "    xi=sorted(datas)\n",
    "    xa=[xi]\n",
    "    print(\"\\nlist:\",(xa))\n",
    "    \n",
    "V=float(input(\"\\nPercentage to remove:\"))    \n",
    "\n",
    "if V <= 100:\n",
    "\n",
    "        p=(a*V)/100\n",
    "        r=p/2\n",
    "        print(\"\\ndata to remove:\",(r))\n",
    "        i=outliers\n",
    "        m=(a-(r*outliers))\n",
    "        n+=m\n",
    "        o=n/m\n",
    "        print(\"\\nTreammed Mean is:\",(m))"
   ]
  },
  {
   "cell_type": "code",
   "execution_count": null,
   "metadata": {},
   "outputs": [],
   "source": []
  },
  {
   "cell_type": "code",
   "execution_count": null,
   "metadata": {},
   "outputs": [],
   "source": []
  }
 ],
 "metadata": {
  "kernelspec": {
   "display_name": "Python 3",
   "language": "python",
   "name": "python3"
  },
  "language_info": {
   "codemirror_mode": {
    "name": "ipython",
    "version": 3
   },
   "file_extension": ".py",
   "mimetype": "text/x-python",
   "name": "python",
   "nbconvert_exporter": "python",
   "pygments_lexer": "ipython3",
   "version": "3.7.3"
  }
 },
 "nbformat": 4,
 "nbformat_minor": 2
}
